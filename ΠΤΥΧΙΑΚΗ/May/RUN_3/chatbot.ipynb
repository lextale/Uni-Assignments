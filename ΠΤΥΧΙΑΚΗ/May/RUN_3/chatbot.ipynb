{
"cells":
    [
        {
        "cell_type": "code",
        "execution_count": 2,
        "metadata":
            {
            "colab":
                {
                "base_uri": "https://localhost:8080/"
                },
            "executionInfo":
                {
                "elapsed": 9005,
                "status": "ok",
                "timestamp": 1684099526247,
                "user":
                    {
                    "displayName": "Dystopia Productions",
                    "userId": "14520936725687565918"
                    },
                "user_tz": -180
                },
            "id": "6nlNxRTIxaAx",
            "outputId": "c6f0cdb3-99cf-44bd-ae01-2b6693a93cb8"
            },
        "outputs":
            [
                {
                "name": "stdout",
                "output_type": "stream",
                "text":
                    [
                    "Looking in indexes: https://pypi.org/simple, https://us-python.pkg.dev/colab-wheels/public/simple/\n",
                    "Collecting contractions\n",
                    "  Downloading contractions-0.1.73-py2.py3-none-any.whl (8.7 kB)\n",
                    "Collecting textsearch>=0.0.21 (from contractions)\n",
                    "  Downloading textsearch-0.0.24-py2.py3-none-any.whl (7.6 kB)\n",
                    "Collecting anyascii (from textsearch>=0.0.21->contractions)\n",
                    "  Downloading anyascii-0.3.2-py3-none-any.whl (289 kB)\n",
                    "[2K     [90m\u2501\u2501\u2501\u2501\u2501\u2501\u2501\u2501\u2501\u2501\u2501\u2501\u2501\u2501\u2501\u2501\u2501\u2501\u2501\u2501\u2501\u2501\u2501\u2501\u2501\u2501\u2501\u2501\u2501\u2501\u2501\u2501\u2501\u2501\u2501\u2501\u2501\u2501\u2501[0m [32m289.9/289.9 kB[0m [31m7.5 MB/s[0m eta [36m0:00:00[0m\n",
                    "[?25hCollecting pyahocorasick (from textsearch>=0.0.21->contractions)\n",
                    "  Downloading pyahocorasick-2.0.0-cp310-cp310-manylinux_2_5_x86_64.manylinux1_x86_64.manylinux_2_12_x86_64.manylinux2010_x86_64.whl (110 kB)\n",
                    "[2K     [90m\u2501\u2501\u2501\u2501\u2501\u2501\u2501\u2501\u2501\u2501\u2501\u2501\u2501\u2501\u2501\u2501\u2501\u2501\u2501\u2501\u2501\u2501\u2501\u2501\u2501\u2501\u2501\u2501\u2501\u2501\u2501\u2501\u2501\u2501\u2501\u2501\u2501\u2501\u2501[0m [32m110.8/110.8 kB[0m [31m9.8 MB/s[0m eta [36m0:00:00[0m\n",
                    "[?25hInstalling collected packages: pyahocorasick, anyascii, textsearch, contractions\n",
                    "Successfully installed anyascii-0.3.2 contractions-0.1.73 pyahocorasick-2.0.0 textsearch-0.0.24\n"
                    ]
                }
            ],
        "source":
            [
            "pip install contractions"
            ]
        },
        {
        "cell_type": "code",
        "execution_count": 3,
        "metadata":
            {
            "colab":
                {
                "base_uri": "https://localhost:8080/"
                },
            "executionInfo":
                {
                "elapsed": 13762,
                "status": "ok",
                "timestamp": 1684099539991,
                "user":
                    {
                    "displayName": "Dystopia Productions",
                    "userId": "14520936725687565918"
                    },
                "user_tz": -180
                },
            "id": "FfKOkBBb2wLr",
            "outputId": "25657464-7b9d-4b26-84ac-ff6949bd7ba0"
            },
        "outputs":
            [
                {
                "name": "stderr",
                "output_type": "stream",
                "text":
                    [
                    "[nltk_data] Downloading package punkt to /root/nltk_data...\n",
                    "[nltk_data]   Unzipping tokenizers/punkt.zip.\n",
                    "[nltk_data] Downloading package wordnet to /root/nltk_data...\n"
                    ]
                }
            ],
        "source":
            [
            "import random\n",
            "import pickle\n",
            "import contractions\n",
            "import string\n",
            "import numpy as np\n",
            "import nltk\n",
            "nltk.download('punkt')\n",
            "nltk.download('wordnet')\n",
            "from nltk.stem import WordNetLemmatizer\n",
            "from tensorflow.keras.models import load_model\n",
            "from tensorflow.keras.preprocessing.sequence import pad_sequences"
            ]
        },
        {
        "cell_type": "code",
        "execution_count": 4,
        "metadata":
            {
            "executionInfo":
                {
                "elapsed": 33,
                "status": "ok",
                "timestamp": 1684099539995,
                "user":
                    {
                    "displayName": "Dystopia Productions",
                    "userId": "14520936725687565918"
                    },
                "user_tz": -180
                },
            "id": "1fqS3ySp2zpO"
            },
        "outputs":
            [
            ],
        "source":
            [
            "def clean_up_sentence(sentence):\n",
            "  sentence = contractions.fix(sentence.lower())  \n",
            "  sentence_words = nltk.word_tokenize(sentence.translate(str.maketrans(\"\", \"\", string.punctuation)))\n",
            "  sentence_words = [lemmatizer.lemmatize(word) for word in sentence_words]\n",
            "  return sentence_words"
            ]
        },
        {
        "cell_type": "code",
        "execution_count": 5,
        "metadata":
            {
            "executionInfo":
                {
                "elapsed": 30,
                "status": "ok",
                "timestamp": 1684099539997,
                "user":
                    {
                    "displayName": "Dystopia Productions",
                    "userId": "14520936725687565918"
                    },
                "user_tz": -180
                },
            "id": "Rkt6ZhwN24Pj"
            },
        "outputs":
            [
            ],
        "source":
            [
            "def one_hot_encryption(sentence):\n",
            "  sentence_words = clean_up_sentence(sentence)\n",
            "  mapping_sentence = []\n",
            "  for w in sentence_words:\n",
            "    if(w in vocabulary):\n",
            "      mapping_sentence.append(vocabulary.index(w))\n",
            "    else:\n",
            "      mapping_sentence.append(0)\n",
            "  padded_sentence = mapping_sentence.copy()\n",
            "  while(len(padded_sentence)<MAXLEN):\n",
            "    padded_sentence.append(0)\n",
            "  return np.array(padded_sentence)"
            ]
        },
        {
        "cell_type": "code",
        "execution_count": 6,
        "metadata":
            {
            "executionInfo":
                {
                "elapsed": 30,
                "status": "ok",
                "timestamp": 1684099539999,
                "user":
                    {
                    "displayName": "Dystopia Productions",
                    "userId": "14520936725687565918"
                    },
                "user_tz": -180
                },
            "id": "oPhTGU-M3wv5"
            },
        "outputs":
            [
            ],
        "source":
            [
            "def predict_class(sentence):\n",
            "  ERROR_THRESHOLD = 0.5\n",
            "  res = model.predict(np.array([one_hot_encryption(sentence)]))[0]\n",
            "  results = [[i, r] for i, r in enumerate(res) if r > ERROR_THRESHOLD]\n",
            "  results.sort(key=lambda x: x[1], reverse=True)\n",
            "  return_list = []\n",
            "  # print(results) -----> [[answer_id, possibility], ...]\n",
            "  for r in results:\n",
            "      return_list.append({\"intent\": r[0], \"question\": questions[int(r[0])], \"probability\": str(r[1])})\n",
            "  #print('predict_class:\\t', results)\n",
            "  return return_list"
            ]
        },
        {
        "cell_type": "code",
        "execution_count": 7,
        "metadata":
            {
            "executionInfo":
                {
                "elapsed": 29,
                "status": "ok",
                "timestamp": 1684099540000,
                "user":
                    {
                    "displayName": "Dystopia Productions",
                    "userId": "14520936725687565918"
                    },
                "user_tz": -180
                },
            "id": "2tQN_4sh5MP6"
            },
        "outputs":
            [
            ],
        "source":
            [
            "def get_response(intents_list, id, ans):\n",
            "  print(intents_list)\n",
            "  print('\\n')\n",
            "  if(intents_list == []):\n",
            "      result = 'Please provide additional information.'\n",
            "  else:\n",
            "    tag = intents_list[0]['intent'] #! tag = intents_list[0]['intent']\n",
            "    #list_of_intents = intents_json['intents']\n",
            "    result = ans[id.index(tag)]\n",
            "    print(questions[id.index(tag)])\n",
            "  return result"
            ]
        },
        {
        "cell_type": "code",
        "execution_count": 8,
        "metadata":
            {
            "executionInfo":
                {
                "elapsed": 30,
                "status": "ok",
                "timestamp": 1684099540002,
                "user":
                    {
                    "displayName": "Dystopia Productions",
                    "userId": "14520936725687565918"
                    },
                "user_tz": -180
                },
            "id": "_PMH0Xmy5rZ_"
            },
        "outputs":
            [
            ],
        "source":
            [
            "def chatbot_response(msg):\n",
            "    ints = predict_class(msg)\n",
            "    res = get_response(ints, id, answers)\n",
            "    return res"
            ]
        },
        {
        "cell_type": "code",
        "execution_count": 9,
        "metadata":
            {
            "executionInfo":
                {
                "elapsed": 4575,
                "status": "ok",
                "timestamp": 1684099544548,
                "user":
                    {
                    "displayName": "Dystopia Productions",
                    "userId": "14520936725687565918"
                    },
                "user_tz": -180
                },
            "id": "5wDf_4qv5BOK"
            },
        "outputs":
            [
            ],
        "source":
            [
            "lemmatizer = WordNetLemmatizer()\n",
            "questions = []\n",
            "answers = []\n",
            "id = []\n",
            "MAXLEN = pickle.load(open('/content/drive/MyDrive/_PTYXIAKI/RUN_3/MAXLEN_3.pkl', 'rb'))\n",
            "\n",
            "vocabulary = pickle.load(open('/content/drive/MyDrive/_PTYXIAKI/RUN_3/vocabulary_3.pkl', 'rb'))\n",
            "#classes = pickle.load(open('classes.pkl', 'rb'))\n",
            "\n",
            "model = load_model('/content/drive/MyDrive/_PTYXIAKI/RUN_3/chatbot_model_3.h5')"
            ]
        },
        {
        "cell_type": "code",
        "execution_count": 10,
        "metadata":
            {
            "colab":
                {
                "base_uri": "https://localhost:8080/"
                },
            "executionInfo":
                {
                "elapsed": 39,
                "status": "ok",
                "timestamp": 1684099544551,
                "user":
                    {
                    "displayName": "Dystopia Productions",
                    "userId": "14520936725687565918"
                    },
                "user_tz": -180
                },
            "id": "WYiy7VQe5Eso",
            "outputId": "d33a32d1-e211-44e4-c448-37439b07209a"
            },
        "outputs":
            [
                {
                "name": "stdout",
                "output_type": "stream",
                "text":
                    [
                    "Dataset in use:\t /content/drive/MyDrive/_PTYXIAKI/RUN_3/training_data_3.txt\n"
                    ]
                }
            ],
        "source":
            [
            "with open('/content/drive/MyDrive/_PTYXIAKI/RUN_3/training_data_3.txt', 'r') as file:\n",
            "  print('Dataset in use:\\t', file.name)\n",
            "  for i, line in enumerate(file):\n",
            "    if(i%3==1):\n",
            "      questions.append(line)\n",
            "    elif(i%3==2):\n",
            "      answers.append(line)\n",
            "    elif(i%3==0):\n",
            "      id.append(int(line))"
            ]
        },
        {
        "cell_type": "code",
        "execution_count": 11,
        "metadata":
            {
            "executionInfo":
                {
                "elapsed": 492,
                "status": "ok",
                "timestamp": 1684099545026,
                "user":
                    {
                    "displayName": "Dystopia Productions",
                    "userId": "14520936725687565918"
                    },
                "user_tz": -180
                },
            "id": "ljHlKJ0Hbv7K"
            },
        "outputs":
            [
            ],
        "source":
            [
            "def get_response2(intents_list, id, ans):\n",
            "  #print(intents_list)\n",
            "  #print('\\n')\n",
            "  if(intents_list == []):\n",
            "      result = 'Please provide additional information.'\n",
            "      r1 = 'null'\n",
            "      r2 = 0\n",
            "  else:\n",
            "    tag = intents_list[0]['intent'] #! tag = intents_list[0]['intent']\n",
            "    #list_of_intents = intents_json['intents']\n",
            "    result = ans[id.index(tag)]\n",
            "    r1 = tag\n",
            "    r2 = intents_list[0]['probability']\n",
            "  return result, r1, r2"
            ]
        },
        {
        "cell_type": "code",
        "execution_count": 12,
        "metadata":
            {
            "executionInfo":
                {
                "elapsed": 49,
                "status": "ok",
                "timestamp": 1684099545028,
                "user":
                    {
                    "displayName": "Dystopia Productions",
                    "userId": "14520936725687565918"
                    },
                "user_tz": -180
                },
            "id": "G_GG3PPeb4R0"
            },
        "outputs":
            [
            ],
        "source":
            [
            "def chatbot_response2(msg):\n",
            "    ints = predict_class(msg)\n",
            "    res, r1, r2 = get_response2(ints, id, answers)\n",
            "    return [res, r1, r2]"
            ]
        },
        {
        "cell_type": "code",
        "execution_count": null,
        "metadata":
            {
            "id": "aUq7VfTQ5tRy"
            },
        "outputs":
            [
            ],
        "source":
            [
            "# Main\n",
            "while(1):\n",
            "    print(chatbot_response(input('\\n')))"
            ]
        }
	],
"metadata":
    {
    "colab":
        {
        "provenance":
            [
            ]
        },
    "kernelspec":
        {
        "display_name": "Python 3",
        "name": "python3"
        },
    "language_info":
        {
        "name": "python"
        }
    },
"nbformat": 4,
"nbformat_minor": 0
}
